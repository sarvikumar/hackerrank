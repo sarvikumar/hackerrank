{
 "cells": [
  {
   "cell_type": "markdown",
   "id": "12c09481",
   "metadata": {},
   "source": [
    "### Q1\n",
    "Say \"Hello, World!\" With Python"
   ]
  },
  {
   "cell_type": "code",
   "execution_count": null,
   "id": "3da34e2b",
   "metadata": {},
   "outputs": [],
   "source": [
    "print(\"Hello, World!\")"
   ]
  },
  {
   "cell_type": "markdown",
   "id": "86618219",
   "metadata": {},
   "source": [
    "### Q2"
   ]
  },
  {
   "cell_type": "markdown",
   "id": "254dee7b",
   "metadata": {},
   "source": [
    "Task\n",
    "Given an integer, n, perform the following conditional actions:\n",
    "•\n",
    "•\n",
    "•\n",
    "•\n",
    "If n is odd, print Wei rd\n",
    "If n is even and in the inclusive range of 2 to 5, print Not Wei rd\n",
    "If n is even and in the inclusive range of 6 to 20, print Wei rd\n",
    "20,\n",
    "If n is even and greater than\n",
    "print Not Wei rd"
   ]
  },
  {
   "cell_type": "code",
   "execution_count": null,
   "id": "c5b63dc3",
   "metadata": {},
   "outputs": [],
   "source": [
    "\n",
    "\n",
    "import math\n",
    "import os\n",
    "import random\n",
    "import re\n",
    "import sys\n",
    "\n",
    "\n",
    "\n",
    "if __name__ == '__main__':\n",
    "    n = int(input().strip())\n",
    "\n",
    "if n % 2 == 1:\n",
    "    print(\"Weird\")\n",
    "elif n % 2 == 0 and 2 <= n <= 5:\n",
    "    print(\"Not Weird\")\n",
    "elif n % 2 == 0 and 6 <= n <= 20:\n",
    "    print(\"Weird\")\n",
    "elif n % 2 == 0 and n > 20:\n",
    "    print(\"Not Weird\")\n"
   ]
  },
  {
   "cell_type": "markdown",
   "id": "cf615d4d",
   "metadata": {},
   "source": [
    "### Q3\n",
    "The provided code stub reads two integers from STDIN, a and b. Add code to print\n",
    "three lines where:\n",
    "1. The first line contains the sum of the two numbers.\n",
    "2. The second line contains the difference of the two numbers (first - second).\n",
    "3. The third line contains the product of the two numbers."
   ]
  },
  {
   "cell_type": "code",
   "execution_count": null,
   "id": "5539642a",
   "metadata": {},
   "outputs": [],
   "source": [
    "if __name__ == '__main__':\n",
    "    a = int(input())\n",
    "    b = int(input())\n",
    "    print(a + b)\n",
    "print(a - b)\n",
    "print(a * b)\n"
   ]
  },
  {
   "cell_type": "markdown",
   "id": "92ace9e0",
   "metadata": {},
   "source": [
    "### Q4\n",
    "Task\n",
    "The provided code stub reads two integers, a and b, from STDIN.\n",
    "Add logic to print two lines. The first line should contain the result of integer division, a\n",
    "// b. The second line should contain the result of float division, a / b.\n",
    "No rounding or formatting is necessary."
   ]
  },
  {
   "cell_type": "code",
   "execution_count": null,
   "id": "70ff28e5",
   "metadata": {},
   "outputs": [],
   "source": [
    "if __name__ == '__main__':\n",
    "    a = int(input())\n",
    "    b = int(input())\n",
    "    print(a//b)\n",
    "    print(a/b)\n"
   ]
  },
  {
   "cell_type": "markdown",
   "id": "0886b637",
   "metadata": {},
   "source": [
    "### Q5\n",
    "Task\n",
    "The provided code stub reads and integer, n, from STDIN. For all non-negative integers\n",
    "i < n, print c"
   ]
  },
  {
   "cell_type": "code",
   "execution_count": null,
   "id": "77b27a11",
   "metadata": {},
   "outputs": [],
   "source": [
    "if __name__ == '__main__':\n",
    "    n = int(input())\n",
    "\n",
    "for i in range(n):\n",
    "    print(i ** 2)\n"
   ]
  },
  {
   "cell_type": "markdown",
   "id": "f185d2ad",
   "metadata": {},
   "source": [
    "### Q6\n",
    "An extra day is added to the calendar almost every four years as February 29, and the\n",
    "day is called a leap day. It corrects the calendar for the fact that our planet takes\n",
    "approximately 365.25 days to orbit the sun. A leap year contains a leap day.\n",
    "In the Gregorian calendar, three conditions are used to identify leap years:\n",
    "• The year can be evenly divided by 4, is a leap year, unless:\n",
    "o The year can be evenly divided by 100, it is NOT a leap year, unless:\n",
    "• The year is also evenly divisible by 400. Then it is a leap year.\n",
    "This means that in the Gregorian calendar, the years 2000 and 2400 are leap years,\n",
    "while 1800, 1900, 2100, 2200, 2300 and 2500 are NOT leap years. Source\n",
    "Task\n",
    "Given a year, determine whether it is a leap year. If it is a leap year, return the Boolean\n",
    "True, otherwise return False.\n",
    "Note that the code stub provided reads from STDIN and passes arguments to the\n",
    "i s_leap function. It is only necessary to complete the is_leap function."
   ]
  },
  {
   "cell_type": "code",
   "execution_count": null,
   "id": "7f20b40b",
   "metadata": {},
   "outputs": [],
   "source": [
    "def is_leap(year):\n",
    "    leap = False\n",
    "    \n",
    "    # Write your logic here\n",
    "    \n",
    "    if year % 4 != 0:\n",
    "        return False\n",
    "    elif year % 100 != 0:\n",
    "        return True\n",
    "    elif year % 400 != 0:\n",
    "        return False\n",
    "    else:\n",
    "        return True\n",
    "\n",
    "    \n",
    "    return leap\n",
    "\n",
    "year = int(input())"
   ]
  },
  {
   "cell_type": "markdown",
   "id": "fd55c74e",
   "metadata": {},
   "source": [
    "### Q7\n",
    "The included code stub will read an integer, n, from STDIN.\n",
    "Without using any string methods, try to print the following:\n",
    "123 ...n\n",
    "Note that \".. represents the consecutive values in between."
   ]
  },
  {
   "cell_type": "code",
   "execution_count": null,
   "id": "af646077",
   "metadata": {},
   "outputs": [],
   "source": [
    "if __name__ == '__main__':\n",
    "    n = int(input())\n",
    "\n",
    "for i in range(1, n+1):\n",
    "    print(i, end=\"\")\n"
   ]
  },
  {
   "cell_type": "code",
   "execution_count": null,
   "id": "c43940fb",
   "metadata": {},
   "outputs": [],
   "source": []
  },
  {
   "cell_type": "code",
   "execution_count": null,
   "id": "408b1d53",
   "metadata": {},
   "outputs": [],
   "source": []
  }
 ],
 "metadata": {
  "kernelspec": {
   "display_name": "Python 3 (ipykernel)",
   "language": "python",
   "name": "python3"
  },
  "language_info": {
   "codemirror_mode": {
    "name": "ipython",
    "version": 3
   },
   "file_extension": ".py",
   "mimetype": "text/x-python",
   "name": "python",
   "nbconvert_exporter": "python",
   "pygments_lexer": "ipython3",
   "version": "3.9.7"
  }
 },
 "nbformat": 4,
 "nbformat_minor": 5
}
