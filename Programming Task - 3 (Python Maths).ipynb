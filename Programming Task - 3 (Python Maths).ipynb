{
 "cells": [
  {
   "cell_type": "markdown",
   "id": "4dbed643",
   "metadata": {},
   "source": [
    "### Q1\n",
    "Task<br>\n",
    "You are given a complex z. Your task is to convert it to polar coordinates.<br>\n",
    "Input Format<br>\n",
    "A single line containing the complex number z. Note: complex() function can be used<br>\n",
    "in python to convert the input as a complex number.<br>\n",
    "Constraints<br>\n",
    "Given number is a valid complex number<br>\n",
    "Output Format<br>\n",
    "Output two lines:<br>\n",
    "The first line should contain the value of r.<br>\n",
    "The second line should contain the value of p.<br>\n",
    "Sample Input<br>\n",
    "1+2j<br>\n",
    "Sample Output<br>\n",
    "2.23606797749979<br>\n",
    "\n",
    "Note:The output should be correct up to 3 decimal places.<br>"
   ]
  },
  {
   "cell_type": "code",
   "execution_count": null,
   "id": "cfc79881",
   "metadata": {},
   "outputs": [],
   "source": [
    "# Enter your code here. Read input from STDIN. Print output to STDOUT\n",
    "import cmath\n",
    "\n",
    "z = complex(input().strip())\n",
    "\n",
    "r = abs(z)\n",
    "p = cmath.phase(z)\n",
    "\n",
    "print(\"{:.3f}\".format(r))\n",
    "print(\"{:.3f}\".format(p))\n"
   ]
  },
  {
   "cell_type": "markdown",
   "id": "a0762bea",
   "metadata": {},
   "source": [
    "### Q2\n",
    "triangle, 900 at B.<br>\n",
    "Therefore, ZABC 900<br>\n",
    "Point M is the midpoint of hypotenuse AC.<br>\n",
    "You are given the lengths AB and BC.<br>\n",
    "Your task is to find Z MBC (angle 9 e , as shown in the figure) in degrees.<br>\n",
    "Input Format<br>\n",
    "The first line contains the length of side AB.<br>\n",
    "The second line contains the length of side BC.<br>\n",
    "Constraints<br>\n",
    "• O < AB 100<br>\n",
    "• BC 100<br>\n",
    "• Lengths AB and BC are natural numbers.<br>\n",
    "Output Format<br>\n",
    "Output ZMBC in degrees.<br>\n",
    "Note:<br>\n",
    "Round the angle to the nearest integer.<br>\n",
    "\n",
    "Examples<br>\n",
    "If angle is 56.5000001°,then output 57°,<br>\n",
    "then output<br><br>\n",
    "\n",
    "If angle is 56.50000000°, then output 57°<br>\n",
    "\n",
    "If angle is 56.49999990°,then output 56°<br>\n",
    "then output<br>\n",
    "\n",
    "0° < 0° < 90°<br>Sample Input\n",
    "10\n",
    "10\n",
    "Sample Output\n",
    "450\n",
    "Sample Input\n",
    "10\n",
    "10\n",
    "Sample Output\n",
    "450°"
   ]
  },
  {
   "cell_type": "code",
   "execution_count": null,
   "id": "ecfa05e6",
   "metadata": {},
   "outputs": [],
   "source": [
    "# Enter your code here. Read input from STDIN. Print output to STDOUT\n",
    "import math\n",
    "\n",
    "if __name__ == '__main__':\n",
    "    AB = int(input())\n",
    "    BC = int(input())\n",
    "    theta = round(math.degrees(math.atan(AB/BC)))\n",
    "    \n",
    "    degree_sign = u'\\N{DEGREE SIGN}'  \n",
    "    print(str(theta) + degree_sign, end='')  "
   ]
  },
  {
   "cell_type": "markdown",
   "id": "efc1c185",
   "metadata": {},
   "source": [
    "### Q3\n",
    "You are given a positive integer N.<br>\n",
    "Your task is to print a palindromic triangle of size N.<br>\n",
    "For example, a palindromic triangle of size 5 is:<br>\n",
    "1<br>\n",
    "121<br>\n",
    "12321<br>\n",
    "1234321<br>\n",
    "123454321<br>\n",
    "You can't take more than two lines. The first line (a for-statement) is already written for\n",
    "you.<br>\n",
    "You have to complete the code using exactly one print statement.<br>\n",
    "Note.\n",
    "Using anything related to strings will give a score of O.<br>\n",
    "Using more than one for-statement will give a score of 0.<br>\n",
    "Input Format<br>\n",
    "A single line of input containing the integer N.<br>\n",
    "Constraints<br>\n",
    "O < N < 10<br>\n",
    "Output Format<br>\n",
    "Print the palindromic triangle of size N as explained above."
   ]
  },
  {
   "cell_type": "code",
   "execution_count": null,
   "id": "981a8a67",
   "metadata": {},
   "outputs": [],
   "source": [
    "\n",
    "\n",
    "\n",
    "\n",
    "for i in range(1,int(input())+1):\n",
    "    print(((10**i - 1)//9)**2)\n"
   ]
  },
  {
   "cell_type": "markdown",
   "id": "a71aa9eb",
   "metadata": {},
   "source": [
    "### Q4\n",
    "Task<br>\n",
    "Read in two integers, a and b, and print three lines.<br>\n",
    "The first line is the integer division a/ 1b (While using Python2 remember to import<br>\n",
    "divi sion from __future__).<br>\n",
    "The second line is the result of the modulo operator: a%b.<br>\n",
    "The third line prints the divmod of a and b.<br>\n",
    "Input Format<br>\n",
    "The first line contains the first integer, a, and the second line contains the second<br>\n",
    "integer, b.<br>\n",
    "Output Format<br>\n",
    "Print the result as described above.<br>\n",
    "Sample Input<br>\n",
    "177<br>\n",
    "10<br>\n",
    "Sample Output<br>\n",
    "17<br>\n",
    "7<br>\n",
    "(17, 7)"
   ]
  },
  {
   "cell_type": "code",
   "execution_count": null,
   "id": "ac95440a",
   "metadata": {},
   "outputs": [],
   "source": [
    "# Enter your code here. Read input from STDIN. Print output to STDOUT\n",
    "a = int(input())\n",
    "b = int(input())\n",
    "\n",
    "print(a // b)\n",
    "print(a % b)\n",
    "print(divmod(a, b))\n"
   ]
  },
  {
   "cell_type": "markdown",
   "id": "ee3274f6",
   "metadata": {},
   "source": [
    "### Q5\n",
    "Task<br>\n",
    "You are given three integers: a, b, and m. Print two lines.<br>\n",
    "On the first line, print the result of pow(a,b). On the second line, print the result of<br>\n",
    "pow(a,b,m).<br>\n",
    "Input Format<br>\n",
    "The first line contains a, the second line contains b, and the third line contains m.<br>\n",
    "Constraints<br>\n",
    "1<aS 10<br>\n",
    "10<br>\n",
    "2 < m < 1000<br>\n",
    "Sample Input<br>\n",
    "3<br>\n",
    "4<br>\n",
    "5<br>\n",
    "Sample Output<br>\n",
    "81<br>\n",
    "1"
   ]
  },
  {
   "cell_type": "code",
   "execution_count": null,
   "id": "b1fedf4f",
   "metadata": {},
   "outputs": [],
   "source": [
    "# Enter your code here. Read input from STDIN. Print output to STDOUT\n",
    "a = int(input())\n",
    "b = int(input())\n",
    "m = int(input())\n",
    "\n",
    "print(pow(a, b))\n",
    "print(pow(a, b, m))\n"
   ]
  },
  {
   "cell_type": "markdown",
   "id": "cb6a5724",
   "metadata": {},
   "source": [
    "### Q6\n",
    "Task<br>\n",
    "Read four numbers, a, b, c, and d, and print the result of ab + cd<br>\n",
    "Input Format<br>\n",
    "Integers a, b, c, and d are given on four separate lines, respectively.<br>\n",
    "Constraints<br>\n",
    "1 < a < 1000<br>\n",
    "1 b s 1000<br>\n",
    "1 < c < 1000<br>\n",
    "1 d s 1000<br>\n",
    "Output Format<br>\n",
    "Print the result of ab + cd on one line.<br>\n",
    "Sample Input<br>\n",
    "9<br>\n",
    "29<br>\n",
    "7<br>\n",
    "27<br>\n",
    "Sample Output<br>\n",
    "63<br>\n",
    "\n",
    "Note: This result is bigger than 2^63 — 1. Hence, it won't fit in the long long int of C++<br>\n",
    "\n",
    "or a 64-bit integer."
   ]
  },
  {
   "cell_type": "code",
   "execution_count": null,
   "id": "55842c83",
   "metadata": {},
   "outputs": [],
   "source": [
    "# Enter your code here. Read input from STDIN. Print output to STDOUT\n",
    "a = int(input())\n",
    "b = int(input())\n",
    "c = int(input())\n",
    "d = int(input())\n",
    "\n",
    "print(a**b + c**d)\n"
   ]
  },
  {
   "cell_type": "markdown",
   "id": "0b71a18c",
   "metadata": {},
   "source": [
    "### Q7\n",
    "You are given a positive integer N. Print a numerical triangle of height N — 1 like the<br>\n",
    "one below:<br>\n",
    "1<br>\n",
    "22<br>\n",
    "333<br>\n",
    "4444<br>\n",
    "55555<br>\n",
    "Can you do it using only arithmetic operations, a single for loop and print<br>\n",
    "statement?<br>\n",
    "Use no more than two lines. The first line (the for statement) is already written for you.<br>\n",
    "You have to complete the print statement.<br>\n",
    ": Using anything related to strings will give a score of O.<br>\n",
    "Note<br>\n",
    "Input Format<br>\n",
    "A single line containing integer, N.<br>\n",
    "Constraints<br>\n",
    "Output Format<br>\n",
    "Print N — 1 lines as explained above.<br>\n",
    "Sample Input<br>\n",
    "5"
   ]
  },
  {
   "cell_type": "code",
   "execution_count": null,
   "id": "c3cd9057",
   "metadata": {},
   "outputs": [],
   "source": [
    "for i in range(1,int(input())):\n",
    "     print((10**i//9)*i)\n"
   ]
  },
  {
   "cell_type": "code",
   "execution_count": null,
   "id": "b2661e10",
   "metadata": {},
   "outputs": [],
   "source": []
  }
 ],
 "metadata": {
  "kernelspec": {
   "display_name": "Python 3 (ipykernel)",
   "language": "python",
   "name": "python3"
  },
  "language_info": {
   "codemirror_mode": {
    "name": "ipython",
    "version": 3
   },
   "file_extension": ".py",
   "mimetype": "text/x-python",
   "name": "python",
   "nbconvert_exporter": "python",
   "pygments_lexer": "ipython3",
   "version": "3.9.7"
  }
 },
 "nbformat": 4,
 "nbformat_minor": 5
}
