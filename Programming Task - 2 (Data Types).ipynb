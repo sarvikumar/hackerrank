{
 "cells": [
  {
   "cell_type": "markdown",
   "id": "250acc5a",
   "metadata": {},
   "source": [
    "### Q1\n",
    "Let's learn about list comprehensions! You are given three integers c, y and z\n",
    "representing the dimensions of a cuboid along with an integer n. Print a list of all\n",
    "possible coordinates given by (i, j, k) on a 3D grid where the sum of i + j + k is not\n",
    "equal to n. Here, 0 i c; 0 j y; 0 k z. Please use list comprehensions\n",
    "rather than multiple loops, as a learning exercise.<br>\n",
    "**Example**<br>\n",
    "All permutations of [i, j, k] are:<br>\n",
    "[Io, o, o], [o, o, 11, [o, o, 2], [o, 1, o], [o, 1, 1), [o, 1, 2], [1, o, o], [1, o, 1], [1, o, 2], [1, 1, o],—3.<br>\n",
    "Print an array of the elements that do not sum to n = 3.<br>\n",
    "[Io, o, o], [o, o, 1], [o, o, 2], [o, 1, o], [o, 1, 1], [1, o, o], [1, o, 1], [1, 1, o], [1, 1, 2]]"
   ]
  },
  {
   "cell_type": "code",
   "execution_count": null,
   "id": "57efb86c",
   "metadata": {},
   "outputs": [],
   "source": [
    "if __name__ == '__main__':\n",
    "    x = int(input())\n",
    "    y = int(input())\n",
    "    z = int(input())\n",
    "    n = int(input())\n",
    "    \n",
    "    coordinates = [(i, j, k) for i in range(x+1) for j in range(y+1) for k in range(z+1) if i + j + k != n]\n",
    "    coordinates_list = [list(x) for x in coordinates]\n",
    "\n",
    "    print (coordinates_list)"
   ]
  },
  {
   "cell_type": "markdown",
   "id": "ea07e7c8",
   "metadata": {},
   "source": [
    "### Q2\n",
    "Given the participants' score sheet for your University Sports Day, you are required to\n",
    "find the runner-up score. You are given n scores. Store them in a list and find the score\n",
    "of the runner-up.\n",
    "Input Format\n",
    "The first line contains n. The second line contains an array ] of n integers each\n",
    "separated by a space."
   ]
  },
  {
   "cell_type": "code",
   "execution_count": null,
   "id": "069c33f3",
   "metadata": {},
   "outputs": [],
   "source": [
    "\n",
    "if __name__ == '__main__':\n",
    "    n = int(input())\n",
    "    arr = list(map(int, input().split()))\n",
    "    \n",
    "    # Remove duplicates and sort the list in descending order\n",
    "    arr = sorted(list(set(arr)), reverse=True)\n",
    "    \n",
    "    # Check if there is a runner-up score\n",
    "    if len(arr) > 1:\n",
    "        print(arr[1])\n",
    "    else:\n",
    "        print(\"No runner-up score\")\n"
   ]
  },
  {
   "cell_type": "code",
   "execution_count": null,
   "id": "a551362a",
   "metadata": {},
   "outputs": [],
   "source": []
  },
  {
   "cell_type": "markdown",
   "id": "fce32ae0",
   "metadata": {},
   "source": [
    "### Q3\n",
    "Given the names and grades for each student in a class of N students, store them in a\n",
    "nested list and print the name(s) of any student(s) having the second lowest grade.\n",
    "If there are multiple students with the second lowest grade, order their names\n",
    "Note:\n",
    "alphabetically and print each name on a new line.\n",
    "Example\n",
    "[I chi\" , 20.0], [\"beta\" , 50.0], [\"alpha\" , 50.0]]\n",
    "records\n",
    "[20.0, 50.0],\n",
    "so the second lowest score is 50.0. There are\n",
    "The ordered list of scores is\n",
    "two students with that score: [\"beta\" , \"alpha\"]. Ordered alphabetically, the names\n",
    "are printed as:\n",
    "alpha\n",
    "beta"
   ]
  },
  {
   "cell_type": "code",
   "execution_count": null,
   "id": "f3be5d2b",
   "metadata": {},
   "outputs": [],
   "source": [
    "if __name__ == '__main__':\n",
    "    n = int(input())\n",
    "\n",
    "    students = []\n",
    "\n",
    "    # read in each student's name and grade, and add it to the list\n",
    "    for i in range(n):\n",
    "        name = input()\n",
    "        grade = float(input())\n",
    "        students.append([name, grade])\n",
    "\n",
    "    # find the second lowest grade\n",
    "    grades = set([s[1] for s in students])\n",
    "    second_lowest_grade = sorted(grades)[1]\n",
    "\n",
    "    # find all students with the second lowest grade\n",
    "    second_lowest_students = [s[0] for s in students if s[1] == second_lowest_grade]\n",
    "\n",
    "    # print the names of the second lowest students in alphabetical order\n",
    "    for name in sorted(second_lowest_students):\n",
    "        print(name)\n"
   ]
  },
  {
   "cell_type": "markdown",
   "id": "32fe4707",
   "metadata": {},
   "source": [
    "### Q4\n",
    "The provided code stub will read in a dictionary containing key/value pairs of name:\n",
    "[marks] for a list of students. Print the average of the marks array for the student\n",
    "name provided, showing 2 places after the decimal.\n",
    "Example\n",
    "marks key:value pairs are\n",
    "'alpha': [20, 30, 40]\n",
    "'beta': [30, 50, 70]\n",
    "query_name 'beta'\n",
    "is 'beta'. beta's average score is (30 + 50 + 70)/3 = 50.0.\n",
    "The\n",
    "query_name"
   ]
  },
  {
   "cell_type": "code",
   "execution_count": null,
   "id": "2c81b447",
   "metadata": {},
   "outputs": [],
   "source": [
    "if __name__ == '__main__':\n",
    "    n = int(input())\n",
    "    student_marks = {}\n",
    "    for _ in range(n):\n",
    "        name, *marks = input().split()\n",
    "        student_marks[name] = list(map(float, marks))\n",
    "    query_name = input()\n",
    "\n",
    "    marks = student_marks[query_name]\n",
    "    average = sum(marks) / len(marks)\n",
    "    print(\"{:.2f}\".format(average))\n"
   ]
  },
  {
   "cell_type": "markdown",
   "id": "d8cad2d7",
   "metadata": {},
   "source": [
    "### Q5\n",
    "Consider a list (list = C]). You can perform the following commands:\n",
    "1. insert i e: Insert integer e at position i.\n",
    "2. pri nt: Print the list.\n",
    "3. remove e: Delete the first occurrence of integer e.\n",
    "4. append e: Insert integer e at the end of the list.\n",
    "5. sort: Sort the list.\n",
    "6. pop: Pop the last element from the list.\n",
    "7. reverse: Reverse the list.\n",
    "Initialize your list and read in the value of n followed by n lines of commands where\n",
    "each command will be of the 7 types listed above. Iterate through each command in\n",
    "order and perform the corresponding operation on your list.\n",
    "Example\n",
    "append 1\n",
    "append 2\n",
    "insert 3 1\n",
    "print\n",
    "•\n",
    "•\n",
    "•\n",
    "•\n",
    "append 1: Append 1 to the list, arr\n",
    "append 2: Append 2 to the list, arr —\n",
    "insert 3 1: Insert 3 at index 1, arr =\n",
    "print: Print the array."
   ]
  },
  {
   "cell_type": "code",
   "execution_count": null,
   "id": "ce5929f9",
   "metadata": {},
   "outputs": [],
   "source": [
    "if __name__ == '__main__':\n",
    "    # Initialize an empty list\n",
    "    arr = []\n",
    "\n",
    "    \n",
    "    n = int(input())\n",
    "\n",
    "    # Process each command\n",
    "    for i in range(n):\n",
    "        command = input().split()\n",
    "\n",
    "       \n",
    "        if command[0] == 'insert':\n",
    "            arr.insert(int(command[1]), int(command[2]))\n",
    "        elif command[0] == 'print':\n",
    "            print(arr)\n",
    "        elif command[0] == 'remove':\n",
    "            arr.remove(int(command[1]))\n",
    "        elif command[0] == 'append':\n",
    "            arr.append(int(command[1]))\n",
    "        elif command[0] == 'sort':\n",
    "            arr.sort()\n",
    "        elif command[0] == 'pop':\n",
    "            arr.pop()\n",
    "        elif command[0] == 'reverse':\n",
    "            arr.reverse()\n"
   ]
  },
  {
   "cell_type": "markdown",
   "id": "aca1684c",
   "metadata": {},
   "source": [
    "### Q6\n",
    "Task<br>\n",
    "Given an integer, n, and n space-separated integers as input, create a tuple, t, of those<br>\n",
    "n integers. Then compute and print the result of hash(t).<br>\n",
    "Note: hash() is one of the functions in the __builti ns__ module, so it need not be\n",
    "imported.<br>\n",
    "Input Format\n",
    "The first line contains an integer, n, denoting the number of elements in the tuple.<br>\n",
    "The second line contains n space-separated integers describing the elements in tuple<br>\n",
    "t.<br>\n",
    "Output Format<br>\n",
    "Print the result of hash(t).<br>\n",
    "Sample Input O<br>\n",
    "2\n",
    "Sample Output O<br>"
   ]
  },
  {
   "cell_type": "code",
   "execution_count": null,
   "id": "44472afa",
   "metadata": {},
   "outputs": [],
   "source": [
    "import hashlib\n",
    "\n",
    "if __name__ == '__main__':\n",
    "    n = int(input())\n",
    "    t = tuple(map(int, input().split()))\n",
    "    h = hash(t)\n",
    "    print(h)\n"
   ]
  }
 ],
 "metadata": {
  "kernelspec": {
   "display_name": "Python 3 (ipykernel)",
   "language": "python",
   "name": "python3"
  },
  "language_info": {
   "codemirror_mode": {
    "name": "ipython",
    "version": 3
   },
   "file_extension": ".py",
   "mimetype": "text/x-python",
   "name": "python",
   "nbconvert_exporter": "python",
   "pygments_lexer": "ipython3",
   "version": "3.9.7"
  }
 },
 "nbformat": 4,
 "nbformat_minor": 5
}
